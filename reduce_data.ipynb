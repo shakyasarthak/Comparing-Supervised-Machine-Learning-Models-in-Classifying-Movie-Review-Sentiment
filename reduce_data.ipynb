{
 "cells": [
  {
   "cell_type": "code",
   "execution_count": 1,
   "metadata": {},
   "outputs": [],
   "source": [
    "import pandas as pd\n",
    "\n",
    "# Load the CSV file\n",
    "df = pd.read_csv('imdb_sentiment.csv')\n",
    "\n",
    "# Randomly select 10000 rows\n",
    "df_random = df.sample(n=40000, random_state=42)\n",
    "\n",
    "# Save the reduced DataFrame to a new CSV\n",
    "df_random.to_csv('reduced_dataset.csv', index=False)\n"
   ]
  }
 ],
 "metadata": {
  "kernelspec": {
   "display_name": "smote",
   "language": "python",
   "name": "python3"
  },
  "language_info": {
   "codemirror_mode": {
    "name": "ipython",
    "version": 3
   },
   "file_extension": ".py",
   "mimetype": "text/x-python",
   "name": "python",
   "nbconvert_exporter": "python",
   "pygments_lexer": "ipython3",
   "version": "3.10.16"
  }
 },
 "nbformat": 4,
 "nbformat_minor": 2
}
